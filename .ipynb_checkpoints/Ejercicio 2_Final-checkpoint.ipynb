{
 "cells": [
  {
   "cell_type": "markdown",
   "id": "fe1820ca-4492-41d2-b0c6-1439d89c0226",
   "metadata": {},
   "source": [
    "# Ejercicio 3 Final"
   ]
  },
  {
   "cell_type": "code",
   "execution_count": 1,
   "id": "a99a1646-3c24-4325-bc9f-06c0f7cf74bc",
   "metadata": {},
   "outputs": [
    {
     "name": "stdout",
     "output_type": "stream",
     "text": [
      "Shape del set de entrenamiento: (60000, 28, 28)\n",
      "Shape del set de prueba: (10000, 28, 28)\n"
     ]
    }
   ],
   "source": [
    "import numpy as np\n",
    "import matplotlib.pyplot as plt\n",
    "from keras.datasets import mnist\n",
    "\n",
    "# Cargar el dataset completo\n",
    "(X_train, y_train), (X_test, y_test) = mnist.load_data()\n",
    "\n",
    "print(\"Shape del set de entrenamiento:\", X_train.shape)\n",
    "print(\"Shape del set de prueba:\", X_test.shape)\n"
   ]
  },
  {
   "cell_type": "markdown",
   "id": "e4792065-88ff-4827-91e0-950689ef2303",
   "metadata": {},
   "source": [
    "### Preprocesamiento"
   ]
  },
  {
   "cell_type": "code",
   "execution_count": 4,
   "id": "fb6ac02a-a6bd-41d9-9cf4-32a37c3b8c94",
   "metadata": {},
   "outputs": [
    {
     "name": "stdout",
     "output_type": "stream",
     "text": [
      "Shape del set de entrenamiento: (60000, 784)\n",
      "Shape del set de prueba: (10000, 784)\n"
     ]
    }
   ],
   "source": [
    "from sklearn.preprocessing import Binarizer, StandardScaler, MinMaxScaler\n",
    "\n",
    "# Aplanar las imágenes de 28x28 a 784 características (1D)\n",
    "X_train_flattened = X_train.reshape(X_train.shape[0], -1)\n",
    "X_test_flattened = X_test.reshape(X_test.shape[0], -1)\n",
    "\n",
    "print(\"Shape del set de entrenamiento:\", X_train_flattened.shape)\n",
    "print(\"Shape del set de prueba:\", X_test_flattened.shape)\n",
    "\n",
    "# Escalar los valores de los píxeles entre 0 y 1\n",
    "X_train_normalized = X_train_flattened / 255.0\n",
    "X_test_normalized = X_test_flattened / 255.0\n",
    "\n",
    "# Binarizar las imágenes con un umbral de 127\n",
    "binarizer = Binarizer(threshold=127)\n",
    "X_train_binarized = binarizer.fit_transform(X_train_flattened)\n",
    "X_test_binarized = binarizer.transform(X_test_flattened)\n",
    "\n",
    "# Estandarizar las imágenes (media 0, desviación estándar 1)\n",
    "scaler = StandardScaler()\n",
    "X_train_standardized = scaler.fit_transform(X_train_flattened)\n",
    "X_test_standardized = scaler.transform(X_test_flattened)\n",
    "\n",
    "# Escalar las imágenes entre 0 y 1\n",
    "scaler = MinMaxScaler()\n",
    "X_train_scaled = scaler.fit_transform(X_train_flattened)\n",
    "X_test_scaled = scaler.transform(X_test_flattened)\n",
    "\n",
    "from sklearn.metrics import accuracy_score\n",
    "import time\n",
    "\n",
    "# Diccionario de datasets a probar (ya definidos previamente)\n",
    "datasets = {\n",
    "    \"Raw (sin normalizar)\": X_train_flattened,\n",
    "    \"Normalizado (/255)\": X_train_normalized,\n",
    "    \"Binarizado\": X_train_binarized,\n",
    "    \"Estandarizado (Z-score)\": X_train_standardized,\n",
    "    \"Min-Max Scaling\": X_train_scaled\n",
    "}\n",
    "\n",
    "test_sets = {\n",
    "    \"Raw (sin normalizar)\": X_test_flattened,\n",
    "    \"Normalizado (/255)\": X_test_normalized,\n",
    "    \"Binarizado\": X_test_binarized,\n",
    "    \"Estandarizado (Z-score)\": X_test_standardized,\n",
    "    \"Min-Max Scaling\": X_test_scaled\n",
    "}"
   ]
  },
  {
   "cell_type": "markdown",
   "id": "326f0ece-036d-4ff5-99e3-066153f94b51",
   "metadata": {},
   "source": [
    "## Random Forest"
   ]
  },
  {
   "cell_type": "code",
   "execution_count": 10,
   "id": "0a540e10-5fcd-4b88-b9e6-ccabef9f679e",
   "metadata": {},
   "outputs": [
    {
     "name": "stdout",
     "output_type": "stream",
     "text": [
      "\n",
      "🌲 Evaluando con Random Forest: Raw (sin normalizar)\n",
      "✅ Precisión: 97.05%\n",
      "⏱️ Tiempo total: 49.24 segundos\n",
      "\n",
      "🌲 Evaluando con Random Forest: Normalizado (/255)\n",
      "✅ Precisión: 97.04%\n",
      "⏱️ Tiempo total: 51.24 segundos\n",
      "\n",
      "🌲 Evaluando con Random Forest: Binarizado\n",
      "✅ Precisión: 96.60%\n",
      "⏱️ Tiempo total: 26.52 segundos\n",
      "\n",
      "🌲 Evaluando con Random Forest: Estandarizado (Z-score)\n",
      "✅ Precisión: 97.04%\n",
      "⏱️ Tiempo total: 49.35 segundos\n",
      "\n",
      "🌲 Evaluando con Random Forest: Min-Max Scaling\n",
      "✅ Precisión: 97.04%\n",
      "⏱️ Tiempo total: 51.77 segundos\n",
      "\n",
      "📊 Promedio con Random Forest:\n",
      "🔢 Precisión promedio: 96.95%\n",
      "⏳ Tiempo promedio: 45.62 segundos\n"
     ]
    }
   ],
   "source": [
    "from sklearn.ensemble import RandomForestClassifier\n",
    "from sklearn.metrics import accuracy_score\n",
    "import time\n",
    "\n",
    "total_accuracy = 0\n",
    "total_train_time = 0\n",
    "total_predict_time = 0\n",
    "n = len(datasets)\n",
    "\n",
    "# Evaluar cada tipo de preprocesamiento\n",
    "for nombre, X_train_version in datasets.items():\n",
    "    print(f\"\\n🌲 Evaluando con Random Forest: {nombre}\")\n",
    "    \n",
    "    # Crear modelo\n",
    "    model = RandomForestClassifier(n_estimators=100, random_state=42)\n",
    "    \n",
    "    # Entrenamiento\n",
    "    start_train = time.time()\n",
    "    model.fit(X_train_version, y_train)\n",
    "    train_time = time.time() - start_train\n",
    "    \n",
    "    # Predicción\n",
    "    X_test_version = test_sets[nombre]\n",
    "    start_predict = time.time()\n",
    "    y_pred = model.predict(X_test_version)\n",
    "    predict_time = time.time() - start_predict\n",
    "\n",
    "    # Calcular precisión\n",
    "    acc = accuracy_score(y_test, y_pred)\n",
    "\n",
    "    total_accuracy += acc\n",
    "    total_train_time += train_time\n",
    "    total_predict_time += predict_time\n",
    "\n",
    "    # Resultados\n",
    "    print(f\"✅ Precisión: {acc * 100:.2f}%\")\n",
    "    print(f\"🛠️ Tiempo de entrenamiento: {train_time:.2f} segundos\")\n",
    "    print(f\"🔎 Tiempo de predicción: {predict_time:.2f} segundos\")\n",
    "\n",
    "# Promedios\n",
    "avg_accuracy_RandomForest = (total_accuracy / n) * 100\n",
    "avg_train_time = total_train_time / n\n",
    "avg_predict_time = total_predict_time / n\n",
    "\n",
    "print(f\"\\n📊 Promedio con Random Forest:\")\n",
    "print(f\"🔢 Precisión promedio: {avg_accuracy_RandomForest:.2f}%\")\n",
    "print(f\"🛠️ Tiempo promedio de entrenamiento: {avg_train_time:.2f} segundos\")\n",
    "print(f\"🔎 Tiempo promedio de predicción: {avg_predict_time:.2f} segundos\")"
   ]
  },
  {
   "cell_type": "code",
   "execution_count": 9,
   "id": "a3e27a31-bfc8-4bf9-961c-03388167ed66",
   "metadata": {},
   "outputs": [
    {
     "name": "stdout",
     "output_type": "stream",
     "text": [
      "\n",
      "👟 Evaluando con KNN: Raw (sin normalizar)\n",
      "✅ Precisión: 96.88%\n",
      "⏱️ Tiempo total: 28.56 segundos\n",
      "\n",
      "👟 Evaluando con KNN: Normalizado (/255)\n",
      "✅ Precisión: 96.88%\n",
      "⏱️ Tiempo total: 13.24 segundos\n",
      "\n",
      "👟 Evaluando con KNN: Binarizado\n",
      "✅ Precisión: 95.74%\n",
      "⏱️ Tiempo total: 30.19 segundos\n",
      "\n",
      "👟 Evaluando con KNN: Estandarizado (Z-score)\n",
      "✅ Precisión: 94.43%\n",
      "⏱️ Tiempo total: 10.88 segundos\n",
      "\n",
      "👟 Evaluando con KNN: Min-Max Scaling\n",
      "✅ Precisión: 96.88%\n",
      "⏱️ Tiempo total: 10.48 segundos\n",
      "\n",
      "📊 Promedio con KNN:\n",
      "🔢 Precisión promedio: 96.16%\n",
      "⏳ Tiempo promedio: 18.67 segundos\n"
     ]
    }
   ],
   "source": [
    "from sklearn.neighbors import KNeighborsClassifier\n",
    "\n",
    "# Inicializar variables para los promedios\n",
    "total_accuracy_knn = 0\n",
    "total_time_knn = 0\n",
    "n = len(datasets)\n",
    "\n",
    "# Evaluar cada tipo de preprocesamiento\n",
    "for nombre, X_train_version in datasets.items():\n",
    "    print(f\"\\n👟 Evaluando con KNN: {nombre}\")\n",
    "    \n",
    "    # Iniciar contador de tiempo\n",
    "    start_time = time.time()\n",
    "    \n",
    "    # Crear modelo KNN\n",
    "    model_knn = KNeighborsClassifier(n_neighbors=5)  # Número de vecinos (puedes ajustarlo)\n",
    "    \n",
    "    # Entrenar con la versión preprocesada de entrenamiento\n",
    "    model_knn.fit(X_train_version, y_train)\n",
    "    \n",
    "    # Predecir con la versión preprocesada de prueba\n",
    "    X_test_version = test_sets[nombre]\n",
    "    y_pred_knn = model_knn.predict(X_test_version)\n",
    "    \n",
    "    # Calcular precisión\n",
    "    acc_knn = accuracy_score(y_test, y_pred_knn)\n",
    "    elapsed_time_knn = time.time() - start_time\n",
    "\n",
    "    total_accuracy_knn += acc_knn\n",
    "    total_time_knn += elapsed_time_knn\n",
    "\n",
    "    # Resultados\n",
    "    print(f\"✅ Precisión: {acc_knn * 100:.2f}%\")\n",
    "    print(f\"⏱️ Tiempo total: {elapsed_time_knn:.2f} segundos\")\n",
    "\n",
    "# Promedios\n",
    "avg_accuracy_knn = (total_accuracy_knn / n) * 100\n",
    "avg_time_knn = total_time_knn / n\n",
    "\n",
    "print(f\"\\n📊 Promedio con KNN:\")\n",
    "print(f\"🔢 Precisión promedio: {avg_accuracy_knn:.2f}%\")\n",
    "print(f\"⏳ Tiempo promedio: {avg_time_knn:.2f} segundos\")\n"
   ]
  },
  {
   "cell_type": "code",
   "execution_count": null,
   "id": "ea545c3f-d596-45c5-803e-f52a0f407606",
   "metadata": {},
   "outputs": [],
   "source": []
  }
 ],
 "metadata": {
  "kernelspec": {
   "display_name": "Python 3 (ipykernel)",
   "language": "python",
   "name": "python3"
  },
  "language_info": {
   "codemirror_mode": {
    "name": "ipython",
    "version": 3
   },
   "file_extension": ".py",
   "mimetype": "text/x-python",
   "name": "python",
   "nbconvert_exporter": "python",
   "pygments_lexer": "ipython3",
   "version": "3.11.9"
  }
 },
 "nbformat": 4,
 "nbformat_minor": 5
}
