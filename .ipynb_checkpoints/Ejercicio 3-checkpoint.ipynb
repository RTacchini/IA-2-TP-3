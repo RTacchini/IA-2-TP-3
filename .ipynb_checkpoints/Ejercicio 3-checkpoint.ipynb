{
 "cells": [
  {
   "cell_type": "markdown",
   "id": "20f348eb-6c5d-411f-8f44-bd94214be9e0",
   "metadata": {},
   "source": [
    "# Ejercicio 3: Primera prueba con RandomForest"
   ]
  },
  {
   "cell_type": "code",
   "execution_count": 1,
   "id": "0a1c1fcc-1ffa-49a2-801d-a4be4c8f0961",
   "metadata": {},
   "outputs": [
    {
     "ename": "ModuleNotFoundError",
     "evalue": "No module named 'keras'",
     "output_type": "error",
     "traceback": [
      "\u001b[31m---------------------------------------------------------------------------\u001b[39m",
      "\u001b[31mModuleNotFoundError\u001b[39m                       Traceback (most recent call last)",
      "\u001b[36mCell\u001b[39m\u001b[36m \u001b[39m\u001b[32mIn[1]\u001b[39m\u001b[32m, line 3\u001b[39m\n\u001b[32m      1\u001b[39m \u001b[38;5;28;01mimport\u001b[39;00m\u001b[38;5;250m \u001b[39m\u001b[34;01mnumpy\u001b[39;00m\u001b[38;5;250m \u001b[39m\u001b[38;5;28;01mas\u001b[39;00m\u001b[38;5;250m \u001b[39m\u001b[34;01mnp\u001b[39;00m\n\u001b[32m      2\u001b[39m \u001b[38;5;28;01mimport\u001b[39;00m\u001b[38;5;250m \u001b[39m\u001b[34;01mmatplotlib\u001b[39;00m\u001b[34;01m.\u001b[39;00m\u001b[34;01mpyplot\u001b[39;00m\u001b[38;5;250m \u001b[39m\u001b[38;5;28;01mas\u001b[39;00m\u001b[38;5;250m \u001b[39m\u001b[34;01mplt\u001b[39;00m\n\u001b[32m----> \u001b[39m\u001b[32m3\u001b[39m \u001b[38;5;28;01mfrom\u001b[39;00m\u001b[38;5;250m \u001b[39m\u001b[34;01mkeras\u001b[39;00m\u001b[34;01m.\u001b[39;00m\u001b[34;01mdatasets\u001b[39;00m\u001b[38;5;250m \u001b[39m\u001b[38;5;28;01mimport\u001b[39;00m mnist\n\u001b[32m      5\u001b[39m \u001b[38;5;66;03m# Cargar el dataset completo\u001b[39;00m\n\u001b[32m      6\u001b[39m (X_train, y_train), (X_test, y_test) = mnist.load_data()\n",
      "\u001b[31mModuleNotFoundError\u001b[39m: No module named 'keras'"
     ]
    }
   ],
   "source": [
    "import numpy as np\n",
    "import matplotlib.pyplot as plt\n",
    "from keras.datasets import mnist\n",
    "\n",
    "# Cargar el dataset completo\n",
    "(X_train, y_train), (X_test, y_test) = mnist.load_data()\n",
    "\n",
    "# Seleccionar solo las primeras 1000 imágenes y etiquetas\n",
    "X_train_small = X_train[:1000]\n",
    "y_train_small = y_train[:1000]\n",
    "\n",
    "X_test_small = X_test[:200]   # También podés reducir el test si querés\n",
    "y_test_small = y_test[:200]\n",
    "\n",
    "print(\"Shape del set de entrenamiento:\", X_train_small.shape)\n",
    "print(\"Shape del set de prueba:\", X_test_small.shape)"
   ]
  },
  {
   "cell_type": "code",
   "execution_count": null,
   "id": "476b1eac-1dad-4a4d-883e-d15cf0914b2a",
   "metadata": {},
   "outputs": [],
   "source": []
  }
 ],
 "metadata": {
  "kernelspec": {
   "display_name": "Python 3 (ipykernel)",
   "language": "python",
   "name": "python3"
  },
  "language_info": {
   "codemirror_mode": {
    "name": "ipython",
    "version": 3
   },
   "file_extension": ".py",
   "mimetype": "text/x-python",
   "name": "python",
   "nbconvert_exporter": "python",
   "pygments_lexer": "ipython3",
   "version": "3.11.9"
  }
 },
 "nbformat": 4,
 "nbformat_minor": 5
}
