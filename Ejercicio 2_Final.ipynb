{
 "cells": [
  {
   "cell_type": "markdown",
   "id": "fe1820ca-4492-41d2-b0c6-1439d89c0226",
   "metadata": {},
   "source": [
    "# Ejercicio 3 Final"
   ]
  },
  {
   "cell_type": "code",
   "execution_count": 1,
   "id": "a99a1646-3c24-4325-bc9f-06c0f7cf74bc",
   "metadata": {},
   "outputs": [
    {
     "name": "stdout",
     "output_type": "stream",
     "text": [
      "Shape del set de entrenamiento: (60000, 28, 28)\n",
      "Shape del set de prueba: (10000, 28, 28)\n"
     ]
    }
   ],
   "source": [
    "import numpy as np\n",
    "import matplotlib.pyplot as plt\n",
    "from keras.datasets import mnist\n",
    "\n",
    "# Cargar el dataset completo\n",
    "(X_train, y_train), (X_test, y_test) = mnist.load_data()\n",
    "\n",
    "print(\"Shape del set de entrenamiento:\", X_train.shape)\n",
    "print(\"Shape del set de prueba:\", X_test.shape)\n"
   ]
  },
  {
   "cell_type": "markdown",
   "id": "e4792065-88ff-4827-91e0-950689ef2303",
   "metadata": {},
   "source": [
    "### Preprocesamiento"
   ]
  },
  {
   "cell_type": "code",
   "execution_count": 2,
   "id": "fb6ac02a-a6bd-41d9-9cf4-32a37c3b8c94",
   "metadata": {},
   "outputs": [
    {
     "name": "stdout",
     "output_type": "stream",
     "text": [
      "Shape del set de entrenamiento: (60000, 784)\n",
      "Shape del set de prueba: (10000, 784)\n"
     ]
    }
   ],
   "source": [
    "from sklearn.preprocessing import Binarizer, StandardScaler, MinMaxScaler\n",
    "\n",
    "# Aplanar las imágenes de 28x28 a 784 características (1D)\n",
    "X_train_flattened = X_train.reshape(X_train.shape[0], -1)\n",
    "X_test_flattened = X_test.reshape(X_test.shape[0], -1)\n",
    "\n",
    "print(\"Shape del set de entrenamiento:\", X_train_flattened.shape)\n",
    "print(\"Shape del set de prueba:\", X_test_flattened.shape)\n",
    "\n",
    "# Escalar los valores de los píxeles entre 0 y 1\n",
    "X_train_normalized = X_train_flattened / 255.0\n",
    "X_test_normalized = X_test_flattened / 255.0\n",
    "\n",
    "# Binarizar las imágenes con un umbral de 127\n",
    "binarizer = Binarizer(threshold=127)\n",
    "X_train_binarized = binarizer.fit_transform(X_train_flattened)\n",
    "X_test_binarized = binarizer.transform(X_test_flattened)\n",
    "\n",
    "# Estandarizar las imágenes (media 0, desviación estándar 1)\n",
    "scaler = StandardScaler()\n",
    "X_train_standardized = scaler.fit_transform(X_train_flattened)\n",
    "X_test_standardized = scaler.transform(X_test_flattened)\n",
    "\n",
    "# Escalar las imágenes entre 0 y 1\n",
    "scaler = MinMaxScaler()\n",
    "X_train_scaled = scaler.fit_transform(X_train_flattened)\n",
    "X_test_scaled = scaler.transform(X_test_flattened)\n",
    "\n",
    "from sklearn.metrics import accuracy_score\n",
    "import time\n",
    "\n",
    "# Diccionario de datasets a probar (ya definidos previamente)\n",
    "datasets = {\n",
    "    \"Raw (sin normalizar)\": X_train_flattened,\n",
    "    \"Normalizado (/255)\": X_train_normalized,\n",
    "    \"Binarizado\": X_train_binarized,\n",
    "    \"Estandarizado (Z-score)\": X_train_standardized,\n",
    "    \"Min-Max Scaling\": X_train_scaled\n",
    "}\n",
    "\n",
    "test_sets = {\n",
    "    \"Raw (sin normalizar)\": X_test_flattened,\n",
    "    \"Normalizado (/255)\": X_test_normalized,\n",
    "    \"Binarizado\": X_test_binarized,\n",
    "    \"Estandarizado (Z-score)\": X_test_standardized,\n",
    "    \"Min-Max Scaling\": X_test_scaled\n",
    "}"
   ]
  },
  {
   "cell_type": "markdown",
   "id": "326f0ece-036d-4ff5-99e3-066153f94b51",
   "metadata": {},
   "source": [
    "## Random Forest"
   ]
  },
  {
   "cell_type": "code",
   "execution_count": 5,
   "id": "0a540e10-5fcd-4b88-b9e6-ccabef9f679e",
   "metadata": {},
   "outputs": [
    {
     "name": "stdout",
     "output_type": "stream",
     "text": [
      "\n",
      "🌲 Evaluando con Random Forest: Raw (sin normalizar)\n",
      "✅ Precisión: 97.05%\n",
      "🛠️ Tiempo de entrenamiento: 41.23 segundos\n",
      "🔎 Tiempo de predicción: 0.33 segundos\n",
      "\n",
      "🌲 Evaluando con Random Forest: Normalizado (/255)\n",
      "✅ Precisión: 97.04%\n",
      "🛠️ Tiempo de entrenamiento: 40.42 segundos\n",
      "🔎 Tiempo de predicción: 0.31 segundos\n",
      "\n",
      "🌲 Evaluando con Random Forest: Binarizado\n",
      "✅ Precisión: 96.60%\n",
      "🛠️ Tiempo de entrenamiento: 20.22 segundos\n",
      "🔎 Tiempo de predicción: 0.33 segundos\n",
      "\n",
      "🌲 Evaluando con Random Forest: Estandarizado (Z-score)\n",
      "✅ Precisión: 97.04%\n",
      "🛠️ Tiempo de entrenamiento: 40.66 segundos\n",
      "🔎 Tiempo de predicción: 0.32 segundos\n",
      "\n",
      "🌲 Evaluando con Random Forest: Min-Max Scaling\n",
      "✅ Precisión: 97.04%\n",
      "🛠️ Tiempo de entrenamiento: 40.64 segundos\n",
      "🔎 Tiempo de predicción: 0.33 segundos\n",
      "\n",
      "📊 Promedio con Random Forest:\n",
      "🔢 Precisión promedio: 96.95%\n",
      "🛠️ Tiempo promedio de entrenamiento: 41.28 segundos\n",
      "🔎 Tiempo promedio de predicción: 0.36 segundos\n"
     ]
    }
   ],
   "source": [
    "from sklearn.ensemble import RandomForestClassifier\n",
    "from sklearn.metrics import accuracy_score\n",
    "import time\n",
    "\n",
    "total_accuracy = 0\n",
    "total_train_time = 0\n",
    "total_predict_time = 0\n",
    "n = len(datasets)\n",
    "\n",
    "# Evaluar cada tipo de preprocesamiento\n",
    "for nombre, X_train_version in datasets.items():\n",
    "    print(f\"\\n🌲 Evaluando con Random Forest: {nombre}\")\n",
    "    \n",
    "    # Crear modelo\n",
    "    model = RandomForestClassifier(n_estimators=100, random_state=42)\n",
    "    \n",
    "    # Entrenamiento\n",
    "    start_train = time.time()\n",
    "    model.fit(X_train_version, y_train)\n",
    "    train_time = time.time() - start_train\n",
    "    \n",
    "    # Predicción\n",
    "    X_test_version = test_sets[nombre]\n",
    "    start_predict = time.time()\n",
    "    y_pred = model.predict(X_test_version)\n",
    "    predict_time = time.time() - start_predict\n",
    "\n",
    "    # Calcular precisión\n",
    "    acc = accuracy_score(y_test, y_pred)\n",
    "\n",
    "    total_accuracy += acc\n",
    "    total_train_time += train_time\n",
    "    total_predict_time += predict_time\n",
    "\n",
    "    # Resultados\n",
    "    print(f\"✅ Precisión: {acc * 100:.2f}%\")\n",
    "    print(f\"🛠️ Tiempo de entrenamiento: {train_time:.2f} segundos\")\n",
    "    print(f\"🔎 Tiempo de predicción: {predict_time:.2f} segundos\")\n",
    "\n",
    "# Promedios\n",
    "avg_accuracy_RandomForest = (total_accuracy / n) * 100\n",
    "avg_train_time_rf = total_train_time / n\n",
    "avg_predict_time_rf = total_predict_time / n\n",
    "\n",
    "print(f\"\\n📊 Promedio con Random Forest:\")\n",
    "print(f\"🔢 Precisión promedio: {avg_accuracy_RandomForest:.2f}%\")\n",
    "print(f\"🛠️ Tiempo promedio de entrenamiento: {avg_train_time:.2f} segundos\")\n",
    "print(f\"🔎 Tiempo promedio de predicción: {avg_predict_time:.2f} segundos\")"
   ]
  },
  {
   "cell_type": "code",
   "execution_count": 4,
   "id": "a3e27a31-bfc8-4bf9-961c-03388167ed66",
   "metadata": {},
   "outputs": [
    {
     "name": "stdout",
     "output_type": "stream",
     "text": [
      "\n",
      "👟 Evaluando con KNN: Raw (sin normalizar)\n",
      "✅ Precisión: 96.88%\n",
      "🛠️ Tiempo de entrenamiento: 0.00 segundos\n",
      "🔎 Tiempo de predicción: 15.51 segundos\n",
      "\n",
      "👟 Evaluando con KNN: Normalizado (/255)\n",
      "✅ Precisión: 96.88%\n",
      "🛠️ Tiempo de entrenamiento: 0.05 segundos\n",
      "🔎 Tiempo de predicción: 11.56 segundos\n",
      "\n",
      "👟 Evaluando con KNN: Binarizado\n",
      "✅ Precisión: 95.74%\n",
      "🛠️ Tiempo de entrenamiento: 0.00 segundos\n",
      "🔎 Tiempo de predicción: 15.28 segundos\n",
      "\n",
      "👟 Evaluando con KNN: Estandarizado (Z-score)\n",
      "✅ Precisión: 94.43%\n",
      "🛠️ Tiempo de entrenamiento: 0.07 segundos\n",
      "🔎 Tiempo de predicción: 9.07 segundos\n",
      "\n",
      "👟 Evaluando con KNN: Min-Max Scaling\n",
      "✅ Precisión: 96.88%\n",
      "🛠️ Tiempo de entrenamiento: 0.07 segundos\n",
      "🔎 Tiempo de predicción: 7.92 segundos\n",
      "\n",
      "📊 Promedio con KNN:\n",
      "🔢 Precisión promedio: 96.16%\n",
      "🛠️ Tiempo promedio de entrenamiento: 0.04 segundos\n",
      "🔎 Tiempo promedio de predicción: 11.87 segundos\n"
     ]
    }
   ],
   "source": [
    "from sklearn.neighbors import KNeighborsClassifier\n",
    "\n",
    "# Inicializar variables para los promedios\n",
    "total_accuracy_knn = 0\n",
    "total_train_time_knn = 0\n",
    "total_predict_time_knn = 0\n",
    "n = len(datasets)\n",
    "\n",
    "# Evaluar cada tipo de preprocesamiento\n",
    "for nombre, X_train_version in datasets.items():\n",
    "    print(f\"\\n👟 Evaluando con KNN: {nombre}\")\n",
    "    \n",
    "    # Crear modelo KNN\n",
    "    model_knn = KNeighborsClassifier(n_neighbors=5)  # Puedes ajustar el número de vecinos\n",
    "    \n",
    "    # Entrenamiento\n",
    "    start_train = time.time()\n",
    "    model_knn.fit(X_train_version, y_train)\n",
    "    train_time = time.time() - start_train\n",
    "    \n",
    "    # Predicción\n",
    "    X_test_version = test_sets[nombre]\n",
    "    start_predict = time.time()\n",
    "    y_pred_knn = model_knn.predict(X_test_version)\n",
    "    predict_time = time.time() - start_predict\n",
    "\n",
    "    # Calcular precisión\n",
    "    acc_knn = accuracy_score(y_test, y_pred_knn)\n",
    "\n",
    "    total_accuracy_knn += acc_knn\n",
    "    total_train_time_knn += train_time\n",
    "    total_predict_time_knn += predict_time\n",
    "\n",
    "    # Resultados\n",
    "    print(f\"✅ Precisión: {acc_knn * 100:.2f}%\")\n",
    "    print(f\"🛠️ Tiempo de entrenamiento: {train_time:.2f} segundos\")\n",
    "    print(f\"🔎 Tiempo de predicción: {predict_time:.2f} segundos\")\n",
    "\n",
    "# Promedios\n",
    "avg_accuracy_knn = (total_accuracy_knn / n) * 100\n",
    "avg_train_time_knn = total_train_time_knn / n\n",
    "avg_predict_time_knn = total_predict_time_knn / n\n",
    "\n",
    "print(f\"\\n📊 Promedio con KNN:\")\n",
    "print(f\"🔢 Precisión promedio: {avg_accuracy_knn:.2f}%\")\n",
    "print(f\"🛠️ Tiempo promedio de entrenamiento: {avg_train_time_knn:.2f} segundos\")\n",
    "print(f\"🔎 Tiempo promedio de predicción: {avg_predict_time_knn:.2f} segundos\")\n",
    "\n"
   ]
  },
  {
   "cell_type": "markdown",
   "id": "11469f8c-f9b7-480f-9681-ba48f998332c",
   "metadata": {},
   "source": [
    "### Cuadro comparativo"
   ]
  },
  {
   "cell_type": "code",
   "execution_count": 6,
   "id": "3c7c54e5-ccd9-45c4-a9bd-43e49de4a9a1",
   "metadata": {},
   "outputs": [
    {
     "name": "stdout",
     "output_type": "stream",
     "text": [
      "📊 Cuadro comparativo de modelos:\n",
      "\n",
      "    Algoritmo  Precisión (%)  Tiempo de Entrenamiento (s)  Tiempo de Predicción (s)\n",
      "Random Forest         96.954                    36.634861                  0.326695\n",
      "          KNN         96.162                     0.040241                 11.868270\n"
     ]
    },
    {
     "data": {
      "image/png": "[encoded data removed]",
      "text/plain": [
       "<Figure size 1200x600 with 2 Axes>"
      ]
     },
     "metadata": {},
     "output_type": "display_data"
    }
   ],
   "source": [
    "import pandas as pd\n",
    "import matplotlib.pyplot as plt\n",
    "\n",
    "# Datos promedio (asegurate de tener estos valores definidos previamente)\n",
    "data = {\n",
    "    'Algoritmo': [\n",
    "        'Random Forest',\n",
    "        'KNN',\n",
    "    ],\n",
    "    'Precisión (%)': [\n",
    "        avg_accuracy_RandomForest,\n",
    "        avg_accuracy_knn,\n",
    "    ],\n",
    "    'Tiempo de Entrenamiento (s)': [\n",
    "        avg_train_time_rf,\n",
    "        avg_train_time_knn,\n",
    "    ],\n",
    "    'Tiempo de Predicción (s)': [\n",
    "        avg_predict_time_rf,\n",
    "        avg_predict_time_knn,\n",
    "    ]\n",
    "}\n",
    "\n",
    "# Crear DataFrame\n",
    "df = pd.DataFrame(data)\n",
    "\n",
    "# Mostrar tabla\n",
    "print(\"📊 Cuadro comparativo de modelos:\\n\")\n",
    "print(df.to_string(index=False))\n",
    "\n",
    "# ------------------------------\n",
    "# 📈 Gráfico de comparacion\n",
    "# ------------------------------\n",
    "\n",
    "fig, ax1 = plt.subplots(figsize=(12, 6))\n",
    "x = range(len(df))\n",
    "width = 0.35\n",
    "\n",
    "# --- Barras de Precisión (eje izquierdo) ---\n",
    "color_acc = 'tab:blue'\n",
    "bars1 = ax1.bar([i - width/2 for i in x], df['Precisión (%)'], width=width, label='Precisión (%)', color=color_acc)\n",
    "ax1.set_ylabel('Precisión (%)', color=color_acc)\n",
    "ax1.tick_params(axis='y', labelcolor=color_acc)\n",
    "ax1.set_ylim(80, 100)\n",
    "\n",
    "# --- Barras apiladas de Tiempo (eje derecho) ---\n",
    "ax2 = ax1.twinx()\n",
    "color_train = 'tab:orange'\n",
    "color_pred = 'tab:red'\n",
    "bars_train = ax2.bar([i + width/2 for i in x], df['Tiempo de Entrenamiento (s)'], width=width, label='Entrenamiento', color=color_train)\n",
    "bars_pred = ax2.bar([i + width/2 for i in x], df['Tiempo de Predicción (s)'], width=width,\n",
    "                    bottom=df['Tiempo de Entrenamiento (s)'], label='Predicción', color=color_pred)\n",
    "ax2.set_ylabel('Tiempo (s)', color='black')\n",
    "ax2.tick_params(axis='y', labelcolor='black')\n",
    "\n",
    "# --- Etiquetas y leyenda ---\n",
    "ax1.set_xticks(x)\n",
    "ax1.set_xticklabels(df['Algoritmo'], rotation=45, ha='right')\n",
    "fig.legend(loc='upper center', bbox_to_anchor=(0.5, 1.05), ncol=3)\n",
    "plt.title('Comparación de Algoritmos: Precisión vs Tiempo')\n",
    "plt.tight_layout()\n",
    "plt.show()"
   ]
  },
  {
   "cell_type": "code",
   "execution_count": null,
   "id": "b3156ce1-127e-4f94-b65c-d463b032ca6a",
   "metadata": {},
   "outputs": [],
   "source": []
  }
 ],
 "metadata": {
  "kernelspec": {
   "display_name": "Python 3 (ipykernel)",
   "language": "python",
   "name": "python3"
  },
  "language_info": {
   "codemirror_mode": {
    "name": "ipython",
    "version": 3
   },
   "file_extension": ".py",
   "mimetype": "text/x-python",
   "name": "python",
   "nbconvert_exporter": "python",
   "pygments_lexer": "ipython3",
   "version": "3.11.9"
  }
 },
 "nbformat": 4,
 "nbformat_minor": 5
}
