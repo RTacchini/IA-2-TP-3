{
 "cells": [
  {
   "cell_type": "markdown",
   "id": "20f348eb-6c5d-411f-8f44-bd94214be9e0",
   "metadata": {},
   "source": [
    "# Ejercicio 3: Primera prueba con RandomForest"
   ]
  },
  {
   "cell_type": "code",
   "execution_count": 39,
   "id": "0a1c1fcc-1ffa-49a2-801d-a4be4c8f0961",
   "metadata": {},
   "outputs": [
    {
     "name": "stdout",
     "output_type": "stream",
     "text": [
      "Shape del set de entrenamiento: (10000, 28, 28)\n",
      "Shape del set de prueba: (2000, 28, 28)\n"
     ]
    }
   ],
   "source": [
    "import numpy as np\n",
    "import matplotlib.pyplot as plt\n",
    "from keras.datasets import mnist\n",
    "\n",
    "# Cargar el dataset completo\n",
    "(X_train, y_train), (X_test, y_test) = mnist.load_data()\n",
    "\n",
    "# Seleccionar solo las primeras 1000 imágenes y etiquetas\n",
    "X_train_small = X_train[:10000]\n",
    "y_train_small = y_train[:10000]\n",
    "\n",
    "X_test_small = X_test[:2000]   # También podés reducir el test si querés\n",
    "y_test_small = y_test[:2000]\n",
    "\n",
    "print(\"Shape del set de entrenamiento:\", X_train_small.shape)\n",
    "print(\"Shape del set de prueba:\", X_test_small.shape)"
   ]
  },
  {
   "cell_type": "markdown",
   "id": "22eb995f-d7c4-4369-b3d7-0a84aff2416a",
   "metadata": {},
   "source": [
    "### Preprocesamiento"
   ]
  },
  {
   "cell_type": "code",
   "execution_count": 49,
   "id": "e6d8cabb-0274-47ba-8aa5-884250ecd74c",
   "metadata": {},
   "outputs": [
    {
     "name": "stdout",
     "output_type": "stream",
     "text": [
      "Shape del set de entrenamiento: (10000, 784)\n",
      "Shape del set de prueba: (2000, 784)\n"
     ]
    }
   ],
   "source": [
    "# Aplanar las imágenes de 28x28 a 784 características (1D)\n",
    "X_train_flattened = X_train_small.reshape(X_train_small.shape[0], -1)\n",
    "X_test_flattened = X_test_small.reshape(X_test_small.shape[0], -1)\n",
    "\n",
    "print(\"Shape del set de entrenamiento:\", X_train_flattened.shape)\n",
    "print(\"Shape del set de prueba:\", X_test_flattened.shape)\n",
    "\n",
    "# Escalar los valores de los píxeles entre 0 y 1\n",
    "X_train_normalized = X_train_flattened / 255.0\n",
    "X_test_normalized = X_test_flattened / 255.0\n",
    "\n",
    "from sklearn.preprocessing import Binarizer\n",
    "\n",
    "binarizer = Binarizer(threshold=127)\n",
    "X_train_binarized = binarizer.fit_transform(X_train_flattened)\n",
    "X_test_binarized = binarizer.transform(X_test_flattened)\n",
    "\n",
    "from sklearn.preprocessing import StandardScaler\n",
    "\n",
    "scaler = StandardScaler()\n",
    "X_train_standardized = scaler.fit_transform(X_train_flattened)\n",
    "X_test_standardized = scaler.transform(X_test_flattened)\n",
    "\n",
    "from sklearn.preprocessing import MinMaxScaler\n",
    "\n",
    "scaler = MinMaxScaler()\n",
    "X_train_scaled = scaler.fit_transform(X_train_flattened)\n",
    "X_test_scaled = scaler.transform(X_test_flattened)"
   ]
  },
  {
   "cell_type": "markdown",
   "id": "fcd2ccf7-fa09-473c-9418-b030ce29fd8a",
   "metadata": {},
   "source": [
    "### Entrenamiento de RandomForest normalizado"
   ]
  },
  {
   "cell_type": "code",
   "execution_count": 50,
   "id": "50180c0c-0201-48f4-8919-d043a04ace75",
   "metadata": {},
   "outputs": [
    {
     "name": "stdout",
     "output_type": "stream",
     "text": [
      "\n",
      "🔎 Evaluando: Raw (sin normalizar)\n",
      "✅ Precisión: 93.35%\n",
      "\n",
      "🔎 Evaluando: Normalizado (/255)\n",
      "✅ Precisión: 93.35%\n",
      "\n",
      "🔎 Evaluando: Binarizado\n",
      "✅ Precisión: 92.30%\n",
      "\n",
      "🔎 Evaluando: Estandarizado (Z-score)\n",
      "✅ Precisión: 93.35%\n",
      "\n",
      "🔎 Evaluando: Min-Max Scaling\n",
      "✅ Precisión: 93.35%\n"
     ]
    }
   ],
   "source": [
    "from sklearn.ensemble import RandomForestClassifier\n",
    "from sklearn.metrics import accuracy_score\n",
    "\n",
    "# Diccionario de datasets a probar\n",
    "datasets = {\n",
    "    \"Raw (sin normalizar)\": X_train_flattened,\n",
    "    \"Normalizado (/255)\": X_train_normalized,\n",
    "    \"Binarizado\": X_train_binarized,\n",
    "    \"Estandarizado (Z-score)\": X_train_standardized,\n",
    "    \"Min-Max Scaling\": X_train_scaled\n",
    "}\n",
    "\n",
    "test_sets = {\n",
    "    \"Raw (sin normalizar)\": X_test_flattened,\n",
    "    \"Normalizado (/255)\": X_test_normalized,\n",
    "    \"Binarizado\": X_test_binarized,\n",
    "    \"Estandarizado (Z-score)\": X_test_standardized,\n",
    "    \"Min-Max Scaling\": X_test_scaled\n",
    "}\n",
    "\n",
    "# Ejecutar prueba para cada forma de normalización\n",
    "for nombre, X_train_version in datasets.items():\n",
    "    print(f\"\\n🔎 Evaluando: {nombre}\")\n",
    "    \n",
    "    model = RandomForestClassifier(n_estimators=150, random_state=42)\n",
    "    model.fit(X_train_version, y_train_small)\n",
    "    \n",
    "    X_test_version = test_sets[nombre]\n",
    "    y_pred = model.predict(X_test_version)\n",
    "    \n",
    "    acc = accuracy_score(y_test_small, y_pred)\n",
    "    print(f\"✅ Precisión: {acc * 100:.2f}%\")\n"
   ]
  },
  {
   "cell_type": "code",
   "execution_count": null,
   "id": "da069713-4a50-4d35-b3e5-cf44e2cbee30",
   "metadata": {},
   "outputs": [],
   "source": []
  }
 ],
 "metadata": {
  "kernelspec": {
   "display_name": "Python 3 (ipykernel)",
   "language": "python",
   "name": "python3"
  },
  "language_info": {
   "codemirror_mode": {
    "name": "ipython",
    "version": 3
   },
   "file_extension": ".py",
   "mimetype": "text/x-python",
   "name": "python",
   "nbconvert_exporter": "python",
   "pygments_lexer": "ipython3",
   "version": "3.11.9"
  }
 },
 "nbformat": 4,
 "nbformat_minor": 5
}
